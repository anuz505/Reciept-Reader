{
 "cells": [
  {
   "cell_type": "code",
   "execution_count": 12,
   "metadata": {},
   "outputs": [],
   "source": [
    "import cv2\n",
    "import pytesseract"
   ]
  },
  {
   "cell_type": "code",
   "execution_count": 13,
   "metadata": {},
   "outputs": [],
   "source": [
    "def preprocess(img):\n",
    "    image = cv2.imread(img)\n",
    "    gray = cv2.cvtColor(image, cv2.COLOR_BGR2GRAY)\n",
    "\n",
    "    #apply threshold\n",
    "    threshold = cv2.threshold(gray, 0,255, cv2.THRESH_BINARY + cv2.THRESH_OTSU)\n",
    "    return threshold"
   ]
  },
  {
   "cell_type": "code",
   "execution_count": 14,
   "metadata": {},
   "outputs": [],
   "source": [
    "def extract_text(img):\n",
    "    return pytesseract.image_to_string(img)"
   ]
  },
  {
   "cell_type": "code",
   "execution_count": 15,
   "metadata": {},
   "outputs": [],
   "source": [
    "import google.generativeai as genai\n",
    "from dotenv import load_dotenv\n",
    "import os\n",
    "load_dotenv()\n",
    "genai.configure(api_key=os.getenv(\"API_KEY\"))\n",
    "model = genai.GenerativeModel(\"gemini-1.5-flash\")\n",
    "response = model.generate_content(\"Explain how AI works\")"
   ]
  },
  {
   "cell_type": "code",
   "execution_count": 16,
   "metadata": {},
   "outputs": [
    {
     "ename": "ModuleNotFoundError",
     "evalue": "No module named 'matplotlib'",
     "output_type": "error",
     "traceback": [
      "\u001b[31m---------------------------------------------------------------------------\u001b[39m",
      "\u001b[31mModuleNotFoundError\u001b[39m                       Traceback (most recent call last)",
      "\u001b[36mCell\u001b[39m\u001b[36m \u001b[39m\u001b[32mIn[16]\u001b[39m\u001b[32m, line 2\u001b[39m\n\u001b[32m      1\u001b[39m \u001b[38;5;66;03m# image before preporcess\u001b[39;00m\n\u001b[32m----> \u001b[39m\u001b[32m2\u001b[39m \u001b[38;5;28;01mimport\u001b[39;00m\u001b[38;5;250m \u001b[39m\u001b[34;01mmatplotlib\u001b[39;00m\u001b[34;01m.\u001b[39;00m\u001b[34;01mpyplot\u001b[39;00m\u001b[38;5;250m \u001b[39m\u001b[38;5;28;01mas\u001b[39;00m\u001b[38;5;250m \u001b[39m\u001b[34;01mplt\u001b[39;00m\n\u001b[32m      3\u001b[39m image = plt.imread(\u001b[33m\"\u001b[39m\u001b[33mtest2.jpg\u001b[39m\u001b[33m\"\u001b[39m)\n\u001b[32m      4\u001b[39m plt.imshow(image)\n",
      "\u001b[31mModuleNotFoundError\u001b[39m: No module named 'matplotlib'"
     ]
    }
   ],
   "source": [
    "# image before preporcess\n",
    "import matplotlib.pyplot as plt\n",
    "image = plt.imread(\"test2.jpg\")\n",
    "plt.imshow(image)"
   ]
  },
  {
   "cell_type": "code",
   "execution_count": 17,
   "metadata": {},
   "outputs": [
    {
     "ename": "NameError",
     "evalue": "name 'plt' is not defined",
     "output_type": "error",
     "traceback": [
      "\u001b[31m---------------------------------------------------------------------------\u001b[39m",
      "\u001b[31mNameError\u001b[39m                                 Traceback (most recent call last)",
      "\u001b[36mCell\u001b[39m\u001b[36m \u001b[39m\u001b[32mIn[17]\u001b[39m\u001b[32m, line 5\u001b[39m\n\u001b[32m      2\u001b[39m _, processed_img = preprocess(\u001b[33m'\u001b[39m\u001b[33mtest2.jpg\u001b[39m\u001b[33m'\u001b[39m)\n\u001b[32m      4\u001b[39m \u001b[38;5;66;03m# Plot the image\u001b[39;00m\n\u001b[32m----> \u001b[39m\u001b[32m5\u001b[39m \u001b[43mplt\u001b[49m.imshow(processed_img, cmap=\u001b[33m'\u001b[39m\u001b[33mgray\u001b[39m\u001b[33m'\u001b[39m)\n\u001b[32m      6\u001b[39m plt.title(\u001b[33m'\u001b[39m\u001b[33mPreprocessed Image\u001b[39m\u001b[33m'\u001b[39m)\n\u001b[32m      7\u001b[39m plt.axis(\u001b[33m'\u001b[39m\u001b[33moff\u001b[39m\u001b[33m'\u001b[39m)\n",
      "\u001b[31mNameError\u001b[39m: name 'plt' is not defined"
     ]
    }
   ],
   "source": [
    "\n",
    "# Preprocess the image\n",
    "_, processed_img = preprocess('test2.jpg')\n",
    "\n",
    "# Plot the image\n",
    "plt.imshow(processed_img, cmap='gray')\n",
    "plt.title('Preprocessed Image')\n",
    "plt.axis('off')\n",
    "plt.show()"
   ]
  },
  {
   "cell_type": "code",
   "execution_count": 19,
   "metadata": {},
   "outputs": [
    {
     "name": "stdout",
     "output_type": "stream",
     "text": [
      "TEMPE\n",
      "233 E SOUTHERN AVE\n",
      "TEMPE, AZ 85282-9998\n",
      "038436-0800\n",
      "(800) 275-8777\n",
      "one. _ 06/03/2020 04: 10 PM\n",
      "Product Qty Unit Price\n",
      "Price\n",
      "PM 2-Day | 1 £9.60 $9.60\n",
      "(Domestic)\n",
      "\n",
      "(TAUNTON, MA 02780) ee\n",
      "(Weight:0 Lb 8.70 02) ~~ -\n",
      "(Expected Delivery Day)\n",
      "(Saturday 06/06/2020)\n",
      "\n",
      "(USPS Tracking #)\n",
      "(9505 8116 3596 0155 5089 03) $3.5\n",
      "3.55\n",
      "\n",
      "Insurance\n",
      "(Amount :$150. 00)\n",
      "fotal: $13.15\n",
      "\n",
      "—_ om\n",
      "a ee eee\n",
      "—_\n",
      "-\n",
      "—_ om”\n",
      "-_~— —_\n",
      "_ -_-\n",
      "\n",
      "Deb!” VISA\n",
      "me\n",
      "(Card Name KXKXKKXXK1477)\n",
      "\n",
      "ryaccount\n",
      "\n"
     ]
    }
   ],
   "source": [
    "# extraction of the text from the image\n",
    "extracted_text = extract_text(processed_img)\n",
    "print(extracted_text)"
   ]
  },
  {
   "cell_type": "code",
   "execution_count": 28,
   "metadata": {},
   "outputs": [],
   "source": [
    "import json\n",
    "def ai_extract(text):\n",
    "    prompt = \"\"\" You are a reciept parser AI. I am going to provide you with text from a reciept and I want you to extract the following information in the this structure: {'total','bussiness','items':[{'name','price','quantity'}],'address'}\"\"\"\n",
    "    response = model.generate_content(prompt + text)\n",
    "    response_text = response.text.strip().replace(\"```json\",\"\").strip().replace(\"```\",\"\")\n",
    "    try:\n",
    "        response_json = json.loads(response_text)\n",
    "    except json.JSONDecodeError as e:\n",
    "        print(f\"error Decoding JSON {e}\")\n",
    "        response_json = {\"error\": \"Failed to parse AI response\"}\n",
    "    return response_json\n"
   ]
  },
  {
   "cell_type": "code",
   "execution_count": 29,
   "metadata": {},
   "outputs": [
    {
     "name": "stdout",
     "output_type": "stream",
     "text": [
      "{'total': '$13.15', 'business': 'USPS', 'items': [{'name': 'PM 2-Day | 1', 'price': '$9.60', 'quantity': 1}, {'name': 'Insurance', 'price': '$3.55', 'quantity': 1}], 'address': '233 E SOUTHERN AVE\\nTEMPE, AZ 85282-9998'}\n"
     ]
    }
   ],
   "source": [
    "print(ai_extract(extracted_text))"
   ]
  },
  {
   "cell_type": "code",
   "execution_count": null,
   "metadata": {},
   "outputs": [],
   "source": []
  },
  {
   "cell_type": "code",
   "execution_count": null,
   "metadata": {},
   "outputs": [],
   "source": []
  },
  {
   "cell_type": "code",
   "execution_count": null,
   "metadata": {},
   "outputs": [],
   "source": []
  },
  {
   "cell_type": "code",
   "execution_count": null,
   "metadata": {},
   "outputs": [],
   "source": []
  }
 ],
 "metadata": {
  "kernelspec": {
   "display_name": ".venv",
   "language": "python",
   "name": "python3"
  },
  "language_info": {
   "codemirror_mode": {
    "name": "ipython",
    "version": 3
   },
   "file_extension": ".py",
   "mimetype": "text/x-python",
   "name": "python",
   "nbconvert_exporter": "python",
   "pygments_lexer": "ipython3",
   "version": "3.13.2"
  }
 },
 "nbformat": 4,
 "nbformat_minor": 2
}
